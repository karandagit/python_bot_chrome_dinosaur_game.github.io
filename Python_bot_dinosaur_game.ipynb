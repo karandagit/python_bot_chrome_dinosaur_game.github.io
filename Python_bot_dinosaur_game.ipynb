{
 "cells": [
  {
   "cell_type": "code",
   "execution_count": 1,
   "metadata": {},
   "outputs": [],
   "source": [
    "import pyautogui\n",
    "\n",
    "import time\n",
    "\n",
    "import PIL.ImageGrab as ImageGrab\n",
    "\n",
    "pyautogui.FAILSAFE = True"
   ]
  },
  {
   "cell_type": "code",
   "execution_count": null,
   "metadata": {},
   "outputs": [],
   "source": [
    "box_area1 = (248, 206, 286, 250) #box coordinates(x1,y1, x2,y2) to detect obstacles\n",
    "\n",
    "pixel_plant1 = (19, 9) #pixel coordinates(x1,y1) to detect plants\n",
    "\n",
    "pixel_plant2 = (11, 21) #pixel coordinates(x1,y1) to detect plants\n",
    "\n",
    "pixel_plant3 = (29, 15) #pixel coordinates(x1,y1) to detect plants\n",
    "\n",
    "pixel_plant4 = (20, 33) #pixel coordinates(x1,y1) to detect plants\n",
    "\n",
    "pixel_plant5 = (20, 42) #pixel coordinates(x1,y1) to detect plants\n",
    "\n",
    "def jump():\n",
    "    pyautogui.keyDown('space')\n",
    "\n",
    "    time.sleep(0.05)\n",
    "\n",
    "    pyautogui.keyUp('space')\n",
    "\n",
    "    print('Jump')\n",
    "play = True\n",
    "\n",
    "while play:\n",
    "    try:\n",
    "        box = ImageGrab.grab(box_area1)\n",
    "\n",
    "        p1 = box.getpixel(pixel_plant1)\n",
    "\n",
    "        p2 = box.getpixel(pixel_plant2)\n",
    "\n",
    "        p3 = box.getpixel(pixel_plant3)\n",
    "\n",
    "        p4 = box.getpixel(pixel_plant4)\n",
    "\n",
    "        p5 = box.getpixel(pixel_plant5)\n",
    "\n",
    "        if p1 == (83, 83, 83) or p2 == (83, 83, 83) or p3 == (83, 83, 83) or p4 == (83, 83, 83) or p5 == (83, 83, 83):\n",
    "            jump()\n",
    "\n",
    "            time.sleep(0.06)\n",
    "    except Exception as e:\n",
    "        play = False\n",
    "\n",
    "        print(e)"
   ]
  },
  {
   "cell_type": "code",
   "execution_count": null,
   "metadata": {},
   "outputs": [],
   "source": []
  }
 ],
 "metadata": {
  "kernelspec": {
   "display_name": "Python 3",
   "language": "python",
   "name": "python3"
  },
  "language_info": {
   "codemirror_mode": {
    "name": "ipython",
    "version": 3
   },
   "file_extension": ".py",
   "mimetype": "text/x-python",
   "name": "python",
   "nbconvert_exporter": "python",
   "pygments_lexer": "ipython3",
   "version": "3.7.1"
  }
 },
 "nbformat": 4,
 "nbformat_minor": 2
}
